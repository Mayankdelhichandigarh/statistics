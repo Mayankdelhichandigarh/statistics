{
 "cells": [
  {
   "cell_type": "markdown",
   "metadata": {},
   "source": [
    "# Statistics Assignment"
   ]
  },
  {
   "cell_type": "code",
   "execution_count": 1,
   "metadata": {},
   "outputs": [],
   "source": [
    "#Ques1: Generate a list of 100 integers containing values between 90 to 130 and store it in the variable `int_list`. After generating the list, find the following: \n",
    "\n",
    "# (i) Write a Python function to calculate the mean of a given list of numbers. Create a function to find the median of a list of numbers. \n",
    "   \n",
    "# (ii) Develop a program to compute the mode of a list of integers. \n",
    "   \n",
    "# (iii) Implement a function to calculate the weighted mean of a list of values and their corresponding weights. \n",
    " \n",
    "# (iv) Write a Python function to find the geometric mean of a list of positive numbers. \n",
    "   \n",
    "# (v) Create a program to calculate the harmonic mean of a list of values. \n",
    "   \n",
    "# (vi) Build a function to determine the midrange of a list of numbers (average of the minimum and maximum). \n",
    "   \n",
    "# (vii) Implement a Python program to find the trimmed mean of a list, excluding a certain percentage of outliers."
   ]
  },
  {
   "cell_type": "code",
   "execution_count": 47,
   "metadata": {},
   "outputs": [
    {
     "name": "stdout",
     "output_type": "stream",
     "text": [
      "list of integers\n",
      " [ 95 101 103 122 126 107 111 121  95 127  94  95 113 117 100 109  97  94\n",
      " 112 129  96  90  90 125 115 127 128 112 128 111 101 129 129 109 121 123\n",
      " 123 113  96 121  90 104 107 111 102  94 122 101 119 114 126 116  98 117\n",
      "  90 113 111  94  93 112 123 121 105 115 108 111 117 107 115 121 113 129\n",
      " 124 122 113 120  99  99  95 116 118  93 123  91 118 113  93  94  97 129\n",
      "  93 117 115 116  98 102 109 101 126  90]\n",
      "corresponding weights\n",
      " [2 2 2 1 2 4 4 2 4 3 1 3 2 3 2 3 3 3 2 3 1 2 2 2 2 3 4 3 2 4 2 2 3 2 1 3 3\n",
      " 2 4 3 1 4 3 2 4 1 2 1 3 1 2 3 3 1 3 2 3 1 2 1 3 3 4 2 3 3 4 2 4 3 1 2 1 1\n",
      " 4 3 1 1 4 2 2 4 2 2 4 4 2 3 2 4 1 1 1 4 1 3 1 3 4 3]\n"
     ]
    }
   ],
   "source": [
    "#ans:\n",
    "import numpy as np\n",
    "\n",
    "int_list = np.random.randint(90, 130, 100)\n",
    "print(\"list of integers\\n\", int_list)\n",
    "\n",
    "weights = np.random.randint(1, 5, 100)\n",
    "print(\"corresponding weights\\n\", weights)"
   ]
  },
  {
   "cell_type": "code",
   "execution_count": 48,
   "metadata": {},
   "outputs": [
    {
     "name": "stdout",
     "output_type": "stream",
     "text": [
      "The mean of int_list:  109.98\n",
      "The median of int_list:  112.0\n"
     ]
    }
   ],
   "source": [
    "#(i): \n",
    "mean = np.mean(int_list)\n",
    "print(\"The mean of int_list: \", mean)\n",
    "\n",
    "median = np.median(int_list)\n",
    "print(\"The median of int_list: \", median)"
   ]
  },
  {
   "cell_type": "code",
   "execution_count": 49,
   "metadata": {},
   "outputs": [
    {
     "name": "stdout",
     "output_type": "stream",
     "text": [
      "The mode of int_list:  113\n"
     ]
    }
   ],
   "source": [
    "#(ii): \n",
    "import statistics\n",
    "\n",
    "mode = statistics.mode(int_list)\n",
    "print(\"The mode of int_list: \", mode)"
   ]
  },
  {
   "cell_type": "code",
   "execution_count": 50,
   "metadata": {},
   "outputs": [
    {
     "name": "stdout",
     "output_type": "stream",
     "text": [
      "weighted mean is:  110.46747967479675\n"
     ]
    }
   ],
   "source": [
    "#(iii):\n",
    "numerator = 0\n",
    "denominator = 0\n",
    "for values, weight in zip(int_list, weights):\n",
    "    numerator += (values*weight)\n",
    "    denominator += weight\n",
    "\n",
    "weighted_mean = numerator / denominator\n",
    "print(\"weighted mean is: \", weighted_mean)"
   ]
  },
  {
   "cell_type": "code",
   "execution_count": 51,
   "metadata": {},
   "outputs": [
    {
     "name": "stdout",
     "output_type": "stream",
     "text": [
      "geometric mean is:  109.31511024396174\n"
     ]
    }
   ],
   "source": [
    "#(iv):\n",
    "import math\n",
    "\n",
    "log_sum = sum(math.log(x) for x in int_list if x > 0)\n",
    "n = len(int_list)\n",
    "geometric_mean = math.exp(log_sum / n)\n",
    "print(\"geometric mean is: \", geometric_mean)"
   ]
  },
  {
   "cell_type": "code",
   "execution_count": 52,
   "metadata": {},
   "outputs": [
    {
     "name": "stdout",
     "output_type": "stream",
     "text": [
      "harmonic mean is:  108.64232096826663\n"
     ]
    }
   ],
   "source": [
    "#(v):\n",
    "numerator = len(int_list)\n",
    "denominator = 0\n",
    "\n",
    "for i in int_list:\n",
    "    denominator += (1/i)\n",
    "\n",
    "harmonic_mean = numerator/denominator\n",
    "print(\"harmonic mean is: \", harmonic_mean)"
   ]
  },
  {
   "cell_type": "code",
   "execution_count": 53,
   "metadata": {},
   "outputs": [
    {
     "name": "stdout",
     "output_type": "stream",
     "text": [
      "mid range is:  109.5\n"
     ]
    }
   ],
   "source": [
    "#(vi):\n",
    "min_element = min(int_list)\n",
    "max_element = max(int_list)\n",
    "\n",
    "midrange = (min_element + max_element) / 2\n",
    "print(\"mid range is: \", midrange)"
   ]
  },
  {
   "cell_type": "code",
   "execution_count": 54,
   "metadata": {},
   "outputs": [
    {
     "name": "stdout",
     "output_type": "stream",
     "text": [
      "trimmed mean is:  110.05\n"
     ]
    }
   ],
   "source": [
    "#(vii):\n",
    "int_list.sort()\n",
    "trim_count = int(len(int_list) * 10 / 100) # suppose trimming 10% \n",
    "trimmed_numbers = int_list[trim_count: -trim_count]\n",
    "trimmed_mean = np.mean(trimmed_numbers)\n",
    "\n",
    "print(\"trimmed mean is: \", trimmed_mean)"
   ]
  },
  {
   "cell_type": "code",
   "execution_count": 55,
   "metadata": {},
   "outputs": [],
   "source": [
    "#Ques2. Generate a list of 500 integers containing values between 200 to 300 and store it in the variable `int_list2`. After generating the list, find the following:  \n",
    "\n",
    "# (i) Compare the given list of visualization for the given data: \n",
    "#     1. Frequency & Gaussian distribution \n",
    "#     2. Frequency smoothened KDE plot \n",
    "#     3. Gaussian distribution & smoothened KDE plot  \n",
    "\n",
    "# (ii) Write a Python function to calculate the range of a given list of numbers.  \n",
    "\n",
    "# (iii) Create a program to find the variance and standard deviation of a list of numbers.  \n",
    "\n",
    "# (iv) Implement a function to compute the interquartile range (IQR) of a list of values.  \n",
    "\n",
    "# (v) Build a program to calculate the coefficient of variation for a dataset. \n",
    "\n",
    "# (vi) Write a Python function to find the mean absolute deviation (MAD) of a list of numbers.  \n",
    "\n",
    "# (vii) Create a program to calculate the quartile deviation of a list of values. \n",
    "\n",
    "# (viii) Implement a function to find the range-based coefficient of dispersion for a dataset. "
   ]
  },
  {
   "cell_type": "code",
   "execution_count": 3,
   "metadata": {},
   "outputs": [
    {
     "ename": "NameError",
     "evalue": "name 'np' is not defined",
     "output_type": "error",
     "traceback": [
      "\u001b[1;31m---------------------------------------------------------------------------\u001b[0m",
      "\u001b[1;31mNameError\u001b[0m                                 Traceback (most recent call last)",
      "Cell \u001b[1;32mIn[3], line 2\u001b[0m\n\u001b[0;32m      1\u001b[0m \u001b[38;5;66;03m#ans:\u001b[39;00m\n\u001b[1;32m----> 2\u001b[0m int_list2 \u001b[38;5;241m=\u001b[39m \u001b[43mnp\u001b[49m\u001b[38;5;241m.\u001b[39mrandom\u001b[38;5;241m.\u001b[39mrandint(\u001b[38;5;241m200\u001b[39m, \u001b[38;5;241m300\u001b[39m, \u001b[38;5;241m500\u001b[39m)\n\u001b[0;32m      3\u001b[0m \u001b[38;5;28mprint\u001b[39m(\u001b[38;5;124m\"\u001b[39m\u001b[38;5;124mlist of integers\u001b[39m\u001b[38;5;130;01m\\n\u001b[39;00m\u001b[38;5;124m\"\u001b[39m, int_list2)\n",
      "\u001b[1;31mNameError\u001b[0m: name 'np' is not defined"
     ]
    }
   ],
   "source": [
    "#ans:\n",
    "int_list2 = np.random.randint(200, 300, 500)\n",
    "print(\"list of integers\\n\", int_list2)"
   ]
  },
  {
   "cell_type": "code",
   "execution_count": 4,
   "metadata": {},
   "outputs": [
    {
     "ename": "NameError",
     "evalue": "name 'int_list2' is not defined",
     "output_type": "error",
     "traceback": [
      "\u001b[1;31m---------------------------------------------------------------------------\u001b[0m",
      "\u001b[1;31mNameError\u001b[0m                                 Traceback (most recent call last)",
      "Cell \u001b[1;32mIn[4], line 6\u001b[0m\n\u001b[0;32m      3\u001b[0m \u001b[38;5;28;01mimport\u001b[39;00m \u001b[38;5;21;01mseaborn\u001b[39;00m \u001b[38;5;28;01mas\u001b[39;00m \u001b[38;5;21;01msns\u001b[39;00m\n\u001b[0;32m      5\u001b[0m plt\u001b[38;5;241m.\u001b[39mfigure(figsize\u001b[38;5;241m=\u001b[39m(\u001b[38;5;241m10\u001b[39m,\u001b[38;5;241m6\u001b[39m))\n\u001b[1;32m----> 6\u001b[0m sns\u001b[38;5;241m.\u001b[39mhistplot(\u001b[43mint_list2\u001b[49m, stat\u001b[38;5;241m=\u001b[39m\u001b[38;5;124m\"\u001b[39m\u001b[38;5;124mdensity\u001b[39m\u001b[38;5;124m\"\u001b[39m, color\u001b[38;5;241m=\u001b[39m\u001b[38;5;124m'\u001b[39m\u001b[38;5;124mblue\u001b[39m\u001b[38;5;124m'\u001b[39m, label\u001b[38;5;241m=\u001b[39m\u001b[38;5;124m'\u001b[39m\u001b[38;5;124mHistogram\u001b[39m\u001b[38;5;124m'\u001b[39m)\n\u001b[0;32m      7\u001b[0m sns\u001b[38;5;241m.\u001b[39mkdeplot(int_list2, color\u001b[38;5;241m=\u001b[39m\u001b[38;5;124m'\u001b[39m\u001b[38;5;124mred\u001b[39m\u001b[38;5;124m'\u001b[39m, label\u001b[38;5;241m=\u001b[39m\u001b[38;5;124m'\u001b[39m\u001b[38;5;124mGaussian Distribution\u001b[39m\u001b[38;5;124m'\u001b[39m)\n\u001b[0;32m      8\u001b[0m plt\u001b[38;5;241m.\u001b[39mtitle(\u001b[38;5;124m'\u001b[39m\u001b[38;5;124mFrequency & Gaussian Distribution\u001b[39m\u001b[38;5;124m'\u001b[39m)\n",
      "\u001b[1;31mNameError\u001b[0m: name 'int_list2' is not defined"
     ]
    },
    {
     "data": {
      "text/plain": [
       "<Figure size 1000x600 with 0 Axes>"
      ]
     },
     "metadata": {},
     "output_type": "display_data"
    }
   ],
   "source": [
    "#(i): 1\n",
    "import matplotlib.pyplot as plt\n",
    "import seaborn as sns\n",
    "\n",
    "plt.figure(figsize=(10,6))\n",
    "sns.histplot(int_list2, stat=\"density\", color='blue', label='Histogram')\n",
    "sns.kdeplot(int_list2, color='red', label='Gaussian Distribution')\n",
    "plt.title('Frequency & Gaussian Distribution')\n",
    "plt.legend()\n",
    "plt.show()"
   ]
  },
  {
   "cell_type": "code",
   "execution_count": 90,
   "metadata": {},
   "outputs": [
    {
     "data": {
      "image/png": "[encoded data removed]",
      "text/plain": [
       "<Figure size 1000x600 with 1 Axes>"
      ]
     },
     "metadata": {},
     "output_type": "display_data"
    }
   ],
   "source": [
    "#(i): 2\n",
    "plt.figure(figsize=(10, 6))\n",
    "sns.histplot(int_list2, kde=True, stat=\"density\", color='green', label='Smoothened KDE')\n",
    "plt.title('Frequency Smoothened KDE Plot')\n",
    "plt.legend()\n",
    "plt.show()\n",
    " "
   ]
  },
  {
   "cell_type": "code",
   "execution_count": 100,
   "metadata": {},
   "outputs": [
    {
     "data": {
      "image/png": "[encoded data removed]",
      "text/plain": [
       "<Figure size 1000x600 with 1 Axes>"
      ]
     },
     "metadata": {},
     "output_type": "display_data"
    }
   ],
   "source": [
    "#(i): 3\n",
    "plt.figure(figsize=(10, 6))\n",
    "sns.kdeplot(int_list2, color='blue', label='Gaussian Distribution', linewidth=2)\n",
    "sns.kdeplot(int_list2, bw_adjust=0.5, color='orange', label='Smoothened KDE', linewidth=2)\n",
    "plt.title('Gaussian Distribution & Smoothened KDE Plot')\n",
    "plt.legend()\n",
    "plt.show()"
   ]
  },
  {
   "cell_type": "code",
   "execution_count": 102,
   "metadata": {},
   "outputs": [
    {
     "name": "stdout",
     "output_type": "stream",
     "text": [
      "range of a given list of numbers:  99\n"
     ]
    }
   ],
   "source": [
    "#(ii):\n",
    "max_element = max(int_list2)\n",
    "min_element = min(int_list2)\n",
    "\n",
    "range = max_element-min_element\n",
    "print(\"range of a given list of numbers: \", range)"
   ]
  },
  {
   "cell_type": "code",
   "execution_count": 103,
   "metadata": {},
   "outputs": [
    {
     "name": "stdout",
     "output_type": "stream",
     "text": [
      "Variance is:  870.9216439999999\n",
      "Standard deviation is:  29.511381601002686\n"
     ]
    }
   ],
   "source": [
    "#(iii):\n",
    "print(\"Variance is: \", np.var(int_list2))\n",
    "print(\"Standard deviation is: \", np.std(int_list2))"
   ]
  },
  {
   "cell_type": "code",
   "execution_count": 106,
   "metadata": {},
   "outputs": [
    {
     "name": "stdout",
     "output_type": "stream",
     "text": [
      "IQR is:  50.25\n"
     ]
    }
   ],
   "source": [
    "#(iv):\n",
    "sorted_list = sorted(int_list2)\n",
    "\n",
    "q1 = np.percentile(sorted_list, 25)\n",
    "q2 = np.percentile(sorted_list, 75)\n",
    "\n",
    "print(\"IQR is: \", q2-q1)"
   ]
  },
  {
   "cell_type": "code",
   "execution_count": 107,
   "metadata": {},
   "outputs": [
    {
     "name": "stdout",
     "output_type": "stream",
     "text": [
      "coefficient of variation(cv):  11.801437061016966\n"
     ]
    }
   ],
   "source": [
    "#(v): coefficient of variation(cv) ==> (standard deviation/mean)*100 \n",
    "standard_deviation = np.std(int_list2)\n",
    "mean = np.mean(int_list2)\n",
    "\n",
    "cv = (standard_deviation/mean)*100\n",
    "print(\"coefficient of variation(cv): \", cv)"
   ]
  },
  {
   "cell_type": "code",
   "execution_count": 113,
   "metadata": {},
   "outputs": [
    {
     "name": "stdout",
     "output_type": "stream",
     "text": [
      "mean absolute deviation (MAD):  25.558304000000007\n"
     ]
    }
   ],
   "source": [
    "#(vi):\n",
    "mean = np.mean(int_list2)\n",
    "submission = 0\n",
    "n = len(int_list2)\n",
    "for i in int_list2:\n",
    "    submission += abs(i-mean)\n",
    "\n",
    "mean_absolute_deviation = submission/n\n",
    "print(\"mean absolute deviation (MAD): \", mean_absolute_deviation)"
   ]
  },
  {
   "cell_type": "code",
   "execution_count": 115,
   "metadata": {},
   "outputs": [
    {
     "name": "stdout",
     "output_type": "stream",
     "text": [
      "quartile deviation (QD):  25.125\n"
     ]
    }
   ],
   "source": [
    "#(vii):\n",
    "sorted_list = sorted(int_list2)\n",
    "\n",
    "q1 = np.percentile(sorted_list, 25)\n",
    "q3 = np.percentile(sorted_list, 75)\n",
    "\n",
    "quartile_deviation = (q3-q1)/2\n",
    "print(\"quartile deviation (QD): \", quartile_deviation)"
   ]
  },
  {
   "cell_type": "code",
   "execution_count": 116,
   "metadata": {},
   "outputs": [
    {
     "name": "stdout",
     "output_type": "stream",
     "text": [
      "Range-based Coefficient of Dispersion:  0.3958954835923316\n"
     ]
    }
   ],
   "source": [
    "#(viii):\n",
    "range = max(int_list2) - min(int_list2)\n",
    "mean = np.mean(int_list2)\n",
    "range_based_coefficient_of_dispersion = range/mean\n",
    "\n",
    "print(\"Range-based Coefficient of Dispersion: \", range_based_coefficient_of_dispersion)"
   ]
  },
  {
   "cell_type": "code",
   "execution_count": null,
   "metadata": {},
   "outputs": [
    {
     "name": "stdout",
     "output_type": "stream",
     "text": [
      "Expected Value: 2.1\n",
      "Variance: 0.49\n"
     ]
    }
   ],
   "source": [
    "#Ques3: Write a Python class representing a discrete random variable with methods to calculate its expected value and variance.\n",
    "\n",
    "class DiscreteRandomVariable:\n",
    "    def __init__(self, probabilities, values):\n",
    "        self.values = values\n",
    "        self.probabilities = probabilities\n",
    "\n",
    "    def expected_value(self):\n",
    "        return sum(value*probab for value, probab in zip(self.values, self.probabilities))\n",
    "\n",
    "    def variance(self):\n",
    "        mean = self.expected_value()\n",
    "        return sum(prob * (value - mean) ** 2 for value, prob in zip(self.values, self.probabilities))\n",
    "\n",
    "\n",
    "\n",
    "values = [1, 2, 3]\n",
    "probabilities = [0.2, 0.5, 0.3]\n",
    "random_variable = DiscreteRandomVariable(probabilities, values)\n",
    "\n",
    "print(\"Expected Value:\", random_variable.expected_value())\n",
    "print(\"Variance:\", random_variable.variance())"
   ]
  },
  {
   "cell_type": "code",
   "execution_count": 133,
   "metadata": {},
   "outputs": [
    {
     "name": "stdout",
     "output_type": "stream",
     "text": [
      "Expected Value:  3.5249\n",
      "Variance:  2.9573799899999997\n"
     ]
    }
   ],
   "source": [
    "#Ques4: Implement a program to simulate the rolling of a fair six-sided die and calculate the expected value and variance of the outcomes.\n",
    "\n",
    "class DieSimulation:\n",
    "    def __init__(self, num_rolls):\n",
    "        self.num_rolls = num_rolls\n",
    "        self.outcomes = []\n",
    "\n",
    "    def roll_die(self):\n",
    "        return np.random.randint(1, 7)\n",
    "    \n",
    "    def simulate_rolls(self):\n",
    "        i=1\n",
    "        while(i<=self.num_rolls):\n",
    "            outcome = self.roll_die()\n",
    "            self.outcomes.append(outcome)\n",
    "            i += 1\n",
    "            \n",
    "    def expected_value(self):\n",
    "        return sum(self.outcomes) / len(self.outcomes)\n",
    "\n",
    "    def variance(self):\n",
    "        mean = self.expected_value()\n",
    "        return sum((i-mean)**2 for i in self.outcomes) / len(self.outcomes)\n",
    "\n",
    "simulator = DieSimulation(10000)\n",
    "simulator.simulate_rolls()  \n",
    "\n",
    "print(\"Expected Value: \", simulator.expected_value())\n",
    "print(\"Variance: \", simulator.variance())  "
   ]
  },
  {
   "cell_type": "code",
   "execution_count": 136,
   "metadata": {},
   "outputs": [
    {
     "name": "stdout",
     "output_type": "stream",
     "text": [
      "Binomial Distribution -> Mean: 4.9931, Variance: 2.5880523899999996\n"
     ]
    }
   ],
   "source": [
    "#Ques5: Create a Python function to generate random samples from a given probability distribution (e.g., binomial, Poisson) and calculate their mean and variance.\n",
    "\n",
    "def binomial_mean_variance(n, p, size):\n",
    "    \"\"\"\n",
    "    Generates random samples from a Binomial distribution and calculates their mean and variance.\n",
    "    \n",
    "    Parameters:\n",
    "    - n: Number of trials (e.g., number of coin flips per experiment).\n",
    "    - p: Probability of success in a single trial (e.g., probability of heads in a coin flip).\n",
    "    - size: Number of experiments (e.g., how many times the experiment is repeated).\n",
    "\n",
    "    Returns:\n",
    "    - mean: The average value of the generated samples.\n",
    "    - variance: The variance of the generated samples.\n",
    "    \"\"\"\n",
    "    samples = np.random.binomial(n, p, size)\n",
    "    mean = np.mean(samples)\n",
    "    variance = np.var(samples)\n",
    "    return mean, variance\n",
    "\n",
    "\n",
    "n = 10   # Number of trials\n",
    "p = 0.5  # Probability of success\n",
    "size = 10000  # Number of experiments\n",
    "\n",
    "mean, variance = binomial_mean_variance(n, p, size)\n",
    "print(f\"Binomial Distribution -> Mean: {mean}, Variance: {variance}\")"
   ]
  },
  {
   "cell_type": "code",
   "execution_count": 139,
   "metadata": {},
   "outputs": [
    {
     "name": "stdout",
     "output_type": "stream",
     "text": [
      "Generated Samples -> Mean: 0.0042, Variance: 1.0085, Standard Deviation: 1.0042\n"
     ]
    }
   ],
   "source": [
    "#Ques6: Write a Python script to generate random numbers from a Gaussian (normal) distribution and compute the mean, variance, and standard deviation of the samples.\n",
    "\n",
    "def gaussian_statistics(mean, std_dev, size):\n",
    "    samples = np.random.normal(mean, std_dev, size)\n",
    "    sample_mean = np.mean(samples)\n",
    "    sample_variance = np.var(samples)\n",
    "    sample_std = np.std(samples)\n",
    "\n",
    "    return sample_mean, sample_variance, sample_std\n",
    "\n",
    "mean = 0        # Mean of the Gaussian distribution\n",
    "std_dev = 1     # Standard deviation of the Gaussian distribution\n",
    "size = 10000    # Number of samples to generate\n",
    "\n",
    "sample_mean, sample_variance, sample_std_dev = gaussian_statistics(mean, std_dev, size)\n",
    "\n",
    "print(f\"Generated Samples -> Mean: {sample_mean:.4f}, Variance: {sample_variance:.4f}, Standard Deviation: {sample_std_dev:.4f}\")"
   ]
  },
  {
   "cell_type": "code",
   "execution_count": null,
   "metadata": {},
   "outputs": [],
   "source": [
    "#Ques7: Use seaborn library to load `tips` dataset. Find the following from the dataset for the columns `total_ bill` and `tip`: \n",
    "   \n",
    "# (i) Write a Python function that calculates their skewness.  \n",
    "\n",
    "# (ii) Create a program that determines whether the columns exhibit positive skewness, negative skewness, or is approximately symmetric.  \n",
    "\n",
    "# (iii) Write a function that calculates the covariance between two columns.  \n",
    "\n",
    "# (iv) Implement a Python program that calculates the Pearson correlation coefficient between two columns.  \n",
    "\n",
    "# (v) Write a script to visualize the correlation between two specific columns in a Pandas DataFrame using scatter plots. \n"
   ]
  },
  {
   "cell_type": "code",
   "execution_count": 9,
   "metadata": {},
   "outputs": [
    {
     "name": "stdout",
     "output_type": "stream",
     "text": [
      "Skewness of 'total_bill':  1.1332130376158207\n",
      "Skewness of 'tip':  1.4654510370979392\n",
      "Total Bill Skewness Type: Positive Skewness\n",
      "Tip Skewness Type: Positive Skewness\n",
      "Covariance between 'total_bill' and 'tip':  8.289388917629669\n",
      "Pearson Correlation Coefficient: 0.6729647071244327\n"
     ]
    },
    {
     "data": {
      "image/png": "[encoded data removed]",
      "text/plain": [
       "<Figure size 800x600 with 1 Axes>"
      ]
     },
     "metadata": {},
     "output_type": "display_data"
    }
   ],
   "source": [
    "import numpy as np\n",
    "import seaborn as sns\n",
    "import matplotlib.pyplot as plt\n",
    "\n",
    "# Load the dataset\n",
    "tips = sns.load_dataset('tips')\n",
    "\n",
    "# Extract specific columns\n",
    "total_bill = tips['total_bill']\n",
    "tip = tips['tip']\n",
    "\n",
    "# (i) Function to calculate skewness\n",
    "def calculate_skewness(data):\n",
    "    n = len(data)\n",
    "    mean = np.mean(data)\n",
    "    std_dev = np.std(data, ddof=1)\n",
    "    skewness = (n / ((n - 1) * (n - 2))) * np.sum(((data - mean) / std_dev) ** 3)\n",
    "    return skewness\n",
    "\n",
    "# Calculate skewness for the columns\n",
    "total_bill_skewness = calculate_skewness(total_bill)\n",
    "tip_skewness = calculate_skewness(tip)\n",
    "\n",
    "print(\"Skewness of 'total_bill': \", total_bill_skewness)\n",
    "print(\"Skewness of 'tip': \", tip_skewness)\n",
    "\n",
    "# (ii) Determine skewness type\n",
    "def skewness_type(skewness):\n",
    "    if skewness > 0:\n",
    "        return \"Positive Skewness\"\n",
    "    elif skewness < 0:\n",
    "        return \"Negative Skewness\"\n",
    "    else:\n",
    "        return \"Approximately Symmetric\"\n",
    "\n",
    "print(\"Total Bill Skewness Type:\", skewness_type(total_bill_skewness))\n",
    "print(\"Tip Skewness Type:\", skewness_type(tip_skewness))\n",
    "\n",
    "# (iii) Function to calculate covariance\n",
    "def calculate_covariance(col1, col2):\n",
    "    mean1 = np.mean(col1)\n",
    "    mean2 = np.mean(col2)\n",
    "    covariance = np.mean((col1 - mean1) * (col2 - mean2))\n",
    "    return covariance\n",
    "\n",
    "covariance = calculate_covariance(total_bill, tip)\n",
    "print(\"Covariance between 'total_bill' and 'tip': \", covariance)\n",
    "\n",
    "# (iv) Pearson correlation coefficient\n",
    "def calculate_pearson_correlation(col1, col2):\n",
    "    covariance = calculate_covariance(col1 , col2)\n",
    "    std1 = np.std(col1, ddof=1)\n",
    "    std2 = np.std(col2, ddof=1)\n",
    "    pearson_corr = covariance / (std1*std2)\n",
    "    return pearson_corr\n",
    "\n",
    "pearson_corr = calculate_pearson_correlation(total_bill, tip)\n",
    "print(\"Pearson Correlation Coefficient:\", pearson_corr) \n",
    "\n",
    "# (v) Scatter plot to visualize correlation\n",
    "\n",
    "plt.figure(figsize=(8,6))\n",
    "plt.scatter(total_bill, tip, alpha=0.7, color='blue')\n",
    "plt.title(\"Scatter Plot: Total Bill vs Tip\")\n",
    "plt.xlabel(\"Total Bill\")\n",
    "plt.ylabel(\"Tip\")\n",
    "plt.grid(True)\n",
    "plt.show()"
   ]
  },
  {
   "cell_type": "code",
   "execution_count": null,
   "metadata": {},
   "outputs": [
    {
     "name": "stdout",
     "output_type": "stream",
     "text": [
      "The PDF value at x = 1.0 for N(0, 1^2): 0.24197072451914337\n"
     ]
    }
   ],
   "source": [
    "#Ques:8 Write a Python function to calculate the probability density function (PDF) of a continuous random variable for a given normal distribution.\n",
    "\n",
    "import math\n",
    "\n",
    "def normal_pdf(x, mean, std_dev):\n",
    "    coefficient = 1 / (std_dev * math.sqrt(2 * math.pi))\n",
    "    exponent = -((x-mean)**2) / (2 * std_dev * std_dev)\n",
    "    return coefficient * math.exp(exponent)\n",
    "\n",
    "mean = 0  # Mean of the distribution\n",
    "std_dev = 1  # Standard deviation of the distribution\n",
    "x = 1.0  # Value at which to evaluate the PDF\n",
    "\n",
    "pdf_value = normal_pdf(x, mean, std_dev)\n",
    "print(f\"The PDF value at x = {x} for N({mean}, {std_dev}^2): {pdf_value}\")"
   ]
  },
  {
   "cell_type": "code",
   "execution_count": 12,
   "metadata": {},
   "outputs": [
    {
     "name": "stdout",
     "output_type": "stream",
     "text": [
      "The CDF value at x = 2.0 for exponential distribution with λ = 0.5: 0.6321\n"
     ]
    }
   ],
   "source": [
    "#Ques:9 Create a program to calculate the cumulative distribution function (CDF) of exponential distribution.\n",
    "\n",
    "def exponential_cdf(x, rate):\n",
    "    if(x < 0):\n",
    "        return 0\n",
    "    \n",
    "    exponent = -(rate) * x\n",
    "    return 1 - math.exp(exponent) \n",
    "\n",
    "\n",
    "rate = 0.5  # Rate parameter (λ)\n",
    "x = 2.0  # Value at which to evaluate the CDF\n",
    "\n",
    "cdf_value = exponential_cdf(x, rate)\n",
    "print(f\"The CDF value at x = {x} for exponential distribution with λ = {rate}: {cdf_value:.4f}\")"
   ]
  },
  {
   "cell_type": "code",
   "execution_count": 13,
   "metadata": {},
   "outputs": [
    {
     "name": "stdout",
     "output_type": "stream",
     "text": [
      "The PMF value for k = 5 and λ = 3.0: 0.1008\n"
     ]
    }
   ],
   "source": [
    "#Ques:10 Write a Python function to calculate the probability mass function (PMF) of Poisson distribution.\n",
    "\n",
    "def poisson_pmf(k, rate):\n",
    "    numerator = (math.exp(-rate)) * (rate**k)\n",
    "    denominator = math.factorial(k)\n",
    "    return numerator / denominator\n",
    "\n",
    "rate = 3.0  # λ, the mean number of occurrences\n",
    "k = 5  # Number of occurrences\n",
    "\n",
    "pmf_value = poisson_pmf(k, rate)\n",
    "print(f\"The PMF value for k = {k} and λ = {rate}: {pmf_value:.4f}\")"
   ]
  },
  {
   "cell_type": "code",
   "execution_count": null,
   "metadata": {},
   "outputs": [],
   "source": [
    "#Ques:11 A company wants to test if a new website layout leads to a higher conversion rate (percentage of visitors \n",
    "#who make a purchase). They collect data from the old and new layouts to compare.  \n",
    "\n",
    "# To generate the data use the following command: \n",
    "# ```python \n",
    "# import numpy as np \n",
    "# # 50 purchases out of 1000 visitors \n",
    "# old_layout = np.array([1] * 50 + [0] * 950) \n",
    "# # 70 purchases out of 1000 visitors   \n",
    "# new_layout = np.array([1] * 70 + [0] * 930) \n",
    "#   ``` \n",
    "# Apply z-test to find which layout is successful. "
   ]
  },
  {
   "cell_type": "code",
   "execution_count": 23,
   "metadata": {},
   "outputs": [
    {
     "name": "stdout",
     "output_type": "stream",
     "text": [
      "Z-Statistic: -1.8831\n",
      "P-Value: 0.9702\n",
      "Fail to reject the null hypothesis: No significant evidence that the new layout has a higher conversion rate.\n"
     ]
    }
   ],
   "source": [
    "import numpy as np\n",
    "from statsmodels.stats.proportion import proportions_ztest\n",
    "\n",
    "# Generate the data\n",
    "old_layout = np.array([1] * 50 + [0] * 950)\n",
    "new_layout = np.array([1] * 70 + [0] * 930)\n",
    "\n",
    "# Count successes (1s) and total samples\n",
    "success_old = np.sum(old_layout)\n",
    "success_new = np.sum(new_layout)\n",
    "n_old = len(old_layout)\n",
    "n_new = len(new_layout)\n",
    "\n",
    "# Perform a one-tailed z-test for proportions\n",
    "counts = np.array([success_old, success_new])\n",
    "nobs = np.array([n_old, n_new])\n",
    "z_stat, p_value = proportions_ztest(counts, nobs, alternative='larger')\n",
    "\n",
    "# Output results\n",
    "print(f\"Z-Statistic: {z_stat:.4f}\")\n",
    "print(f\"P-Value: {p_value:.4f}\")\n",
    "\n",
    "if p_value < 0.05:\n",
    "    print(\"Reject the null hypothesis: The new layout has a higher conversion rate.\")\n",
    "else:\n",
    "    print(\"Fail to reject the null hypothesis: No significant evidence that the new layout has a higher conversion rate.\")\n",
    "\n"
   ]
  },
  {
   "cell_type": "code",
   "execution_count": null,
   "metadata": {},
   "outputs": [],
   "source": [
    "# Ques:12 A tutoring service claims that its program improves students' exam scores. A sample of students who \n",
    "# participated in the program was taken, and their scores before and after the program were recorded.  \n",
    "# Use the below code to generate samples of respective arrays of marks: \n",
    "# ```python \n",
    "# before_program = np.array([75, 80, 85, 70, 90, 78, 92, 88, 82, 87]) \n",
    "# after_program = np.array([80, 85, 90, 80, 92, 80, 95, 90, 85, 88]) \n",
    "# ``` \n",
    "# Use z-test to find if the claims made by tutor are true or false. "
   ]
  },
  {
   "cell_type": "code",
   "execution_count": 30,
   "metadata": {},
   "outputs": [
    {
     "name": "stdout",
     "output_type": "stream",
     "text": [
      "Reject the null hypothesis: The tutoring program improves scores.\n"
     ]
    }
   ],
   "source": [
    "# Null Hypothesis: The tutoring program does not improve scores\n",
    "# Alternative Hypothesis: The tutoring program improves scores\n",
    "\n",
    "import scipy.stats as stat\n",
    "\n",
    "before_program = np.array([75, 80, 85, 70, 90, 78, 92, 88, 82, 87]) \n",
    "after_program = np.array([80, 85, 90, 80, 92, 80, 95, 90, 85, 88]) \n",
    "\n",
    "differences = after_program - before_program\n",
    "mean_diff = np.mean(differences)\n",
    "std_diff = np.std(differences)\n",
    "n = len(differences)\n",
    "\n",
    "z_stat = mean_diff / (std_diff/np.sqrt(n))\n",
    "\n",
    "p_value = 1 - stat.norm.cdf(z_stat)\n",
    "\n",
    "if p_value < 0.05:\n",
    "    print(\"Reject the null hypothesis: The tutoring program improves scores.\")\n",
    "else:\n",
    "    print(\"Fail to reject the null hypothesis: No significant evidence that the program improves scores.\")\n"
   ]
  },
  {
   "cell_type": "code",
   "execution_count": null,
   "metadata": {},
   "outputs": [],
   "source": [
    "# Ques:13 A pharmaceutical company wants to determine if a new drug is effective in reducing blood pressure. They \n",
    "# conduct a study and record blood pressure measurements before and after administering the drug.  \n",
    "# Use the below code to generate samples of respective arrays of blood pressure:  \n",
    "# ```python \n",
    "# before_drug = np.array([145, 150, 140, 135, 155, 160, 152, 148, 130, 138]) \n",
    "# after_drug = np.array([130, 140, 132, 128, 145, 148, 138, 136, 125, 130]) \n",
    "#   ```  \n",
    "# Implement z-test to find if the drug really works or not. "
   ]
  },
  {
   "cell_type": "code",
   "execution_count": 36,
   "metadata": {},
   "outputs": [
    {
     "name": "stdout",
     "output_type": "stream",
     "text": [
      "Reject the null hypothesis: The drug effectively reduces blood pressure.\n"
     ]
    }
   ],
   "source": [
    "# Null Hypothesis: The drug has no effect on blood pressure\n",
    "# Alternative Hypothesis: The drug effectively reduces blood pressure\n",
    "\n",
    "before_drug = np.array([145, 150, 140, 135, 155, 160, 152, 148, 130, 138]) \n",
    "after_drug = np.array([130, 140, 132, 128, 145, 148, 138, 136, 125, 130])\n",
    "\n",
    "differences = before_drug - after_drug\n",
    "mean_diff = np.mean(differences)\n",
    "std_diff = np.std(differences, ddof=1)\n",
    "n = len(differences)\n",
    "\n",
    "z_stat = mean_diff / (std_diff/np.sqrt(n))\n",
    "\n",
    "p_value = 1 - stat.norm.cdf(z_stat)\n",
    "\n",
    "if p_value < 0.05:\n",
    "    print(\"Reject the null hypothesis: The drug effectively reduces blood pressure.\")\n",
    "else:\n",
    "    print(\"Fail to reject the null hypothesis: No significant evidence that the drug reduces blood pressure.\")"
   ]
  },
  {
   "cell_type": "code",
   "execution_count": null,
   "metadata": {},
   "outputs": [],
   "source": [
    "# Ques:14  A customer service department claims that their average response time is less than 5 minutes. A sample \n",
    "# of recent customer interactions was taken, and the response times were recorded.  \n",
    "# Implement the below code to generate the array of response time: \n",
    "# ```python \n",
    "# response_times = np.array([4.3, 3.8, 5.1, 4.9, 4.7, 4.2, 5.2, 4.5, 4.6, 4.4]) \n",
    "# ``` \n",
    "# Implement z-test to find the claims made by customer service department are tru or false. "
   ]
  },
  {
   "cell_type": "code",
   "execution_count": 3,
   "metadata": {},
   "outputs": [
    {
     "name": "stdout",
     "output_type": "stream",
     "text": [
      "Fail to reject the null hypothesis: Insufficient evidence to support the claim.\n"
     ]
    }
   ],
   "source": [
    "# Null Hypothesis: The average response time is greater than or equal to 5 minutes\n",
    "# Alternative Hypothesis: The average response time is less than 5 minutes\n",
    "import numpy as np\n",
    "import scipy.stats as stat\n",
    "\n",
    "response_times = np.array([4.3, 3.8, 5.1, 4.9, 4.7, 4.2, 5.2, 4.5, 4.6, 4.4])\n",
    "alpha = 0.05 #Significance level\n",
    "sigma = 0.5 #Assuming\n",
    "pmean = 5 #population mean\n",
    "smean = np.mean(response_times)\n",
    "n = len(response_times)\n",
    "\n",
    "z_score = (smean - pmean) / (sigma / np.sqrt(n))\n",
    "\n",
    "p_value = 1 - stat.norm.cdf(z_score)\n",
    "\n",
    "if p_value < alpha:\n",
    "    print(\"Reject the null hypothesis: The average response time is less than 5 minutes.\")\n",
    "else:\n",
    "    print(\"Fail to reject the null hypothesis: Insufficient evidence to support the claim.\")"
   ]
  },
  {
   "cell_type": "code",
   "execution_count": null,
   "metadata": {},
   "outputs": [],
   "source": [
    "# Ques:15 A company is testing two different website layouts to see which one leads to higher click-through rates. \n",
    "# Write a Python function to perform an A/B test analysis, including calculating the t-statistic, degrees of \n",
    "# freedom, and p-value.  \n",
    "# Use the following data: \n",
    "# ```python \n",
    "# layout_a_clicks = [28, 32, 33, 29, 31, 34, 30, 35, 36, 37] \n",
    "# layout_b_clicks = [40, 41, 38, 42, 39, 44, 43, 41, 45, 47] "
   ]
  },
  {
   "cell_type": "code",
   "execution_count": null,
   "metadata": {},
   "outputs": [
    {
     "name": "stdout",
     "output_type": "stream",
     "text": [
      "T-Statistic: -7.298102156175071\n",
      "Degrees of Freedom: 17.879871863320876\n",
      "P-Value: 8.833437608301987e-07\n",
      "Reject the null hypothesis: There is a significant difference between the two layouts.\n"
     ]
    }
   ],
   "source": [
    "# Null Hypothesis: The mean click-through rates for both layouts are the same\n",
    "# Alternative Hypothesis: The mean click-through rates for the two layouts are different\n",
    "\n",
    "def ab_test_ttest(layout_a, layout_b):\n",
    "    \"\"\"\n",
    "    Perform an A/B test using a t-test to compare two layouts.\n",
    "\n",
    "    Parameters:\n",
    "        layout_a (list): Click data for Layout A.\n",
    "        layout_b (list): Click data for Layout B.\n",
    "\n",
    "    Returns:\n",
    "        dict: A dictionary with t-statistic, degrees of freedom, and p-value.\n",
    "    \"\"\"\n",
    "    # Convert to numpy arrays\n",
    "    layout_a = np.array(layout_a)\n",
    "    layout_b = np.array(layout_b)\n",
    "\n",
    "    # Perform Welch's t-test (equal_var=False handles unequal variances)\n",
    "    t_stat, p_value = stat.ttest_ind(layout_a, layout_b)\n",
    "\n",
    "    # Degrees of freedom (Welch-Satterthwaite equation)\n",
    "    n1, n2 = len(layout_a), len(layout_b)\n",
    "    var_a, var_b = np.var(layout_a, ddof=1), np.var(layout_b, ddof=1)\n",
    "    df = ((var_a / n1 + var_b / n2) ** 2) / (((var_a / n1) ** 2) / (n1 - 1) + ((var_b / n2) ** 2) / (n2 - 1))\n",
    "\n",
    "    return {\n",
    "        \"t_statistic\": t_stat,\n",
    "        \"degrees_of_freedom\": df,\n",
    "        \"p_value\": p_value\n",
    "    }\n",
    "\n",
    "# Input data\n",
    "layout_a_clicks = [28, 32, 33, 29, 31, 34, 30, 35, 36, 37]\n",
    "layout_b_clicks = [40, 41, 38, 42, 39, 44, 43, 41, 45, 47]\n",
    "\n",
    "# Perform A/B test analysis\n",
    "results = ab_test_ttest(layout_a_clicks, layout_b_clicks)\n",
    "\n",
    "# Output the results\n",
    "print(\"T-Statistic:\", results[\"t_statistic\"])\n",
    "print(\"Degrees of Freedom:\", results[\"degrees_of_freedom\"])\n",
    "print(\"P-Value:\", results[\"p_value\"])\n",
    "\n",
    "# Conclusion\n",
    "alpha = 0.05\n",
    "if results[\"p_value\"] < alpha:\n",
    "    print(\"Reject the null hypothesis: There is a significant difference between the two layouts.\")\n",
    "else:\n",
    "    print(\"Fail to reject the null hypothesis: No significant difference between the two layouts.\")"
   ]
  },
  {
   "cell_type": "code",
   "execution_count": null,
   "metadata": {},
   "outputs": [],
   "source": [
    "# Ques:16 A pharmaceutical company wants to determine if a new drug is more effective than an existing drug in \n",
    "# reducing cholesterol levels. Create a program to analyze the clinical trial data and calculate the t-\n",
    "# statistic and p-value for the treatment effect.  \n",
    "# Use the following data of cholestrol level: \n",
    "# ```python \n",
    "# existing_drug_levels = [180, 182, 175, 185, 178, 176, 172, 184, 179, 183] \n",
    "# new_drug_levels = [170, 172, 165, 168, 175, 173, 170, 178, 172, 176] \n",
    "# ``` "
   ]
  },
  {
   "cell_type": "code",
   "execution_count": 8,
   "metadata": {},
   "outputs": [
    {
     "name": "stdout",
     "output_type": "stream",
     "text": [
      "T-statistic: 4.1405\n",
      "P-value: 0.0006\n",
      "Reject the null hypothesis: The mean cholesterol levels for the new drug is less than the existing drug\n"
     ]
    }
   ],
   "source": [
    "# null hypothesis: The mean cholesterol levels for the new drug and the existing drug are equal\n",
    "# alternate hypothesis: The mean cholesterol levels for the new drug is less than the existing drug\n",
    "\n",
    "import scipy.stats as stat\n",
    "\n",
    "alpha = 0.05\n",
    "existing_drug_levels = [180, 182, 175, 185, 178, 176, 172, 184, 179, 183] \n",
    "new_drug_levels = [170, 172, 165, 168, 175, 173, 170, 178, 172, 176] \n",
    "\n",
    "tstat, p_value = stat.ttest_ind(existing_drug_levels, new_drug_levels)\n",
    "\n",
    "print(f\"T-statistic: {tstat:.4f}\")\n",
    "print(f\"P-value: {p_value:.4f}\")\n",
    "\n",
    "if p_value < alpha:\n",
    "    print(\"Reject the null hypothesis: The mean cholesterol levels for the new drug is less than the existing drug\")\n",
    "else:\n",
    "    print(\"Fail to Reject the null hypothesis: The mean cholesterol levels for the new drug and the existing drug are equal\")\n"
   ]
  },
  {
   "cell_type": "code",
   "execution_count": null,
   "metadata": {},
   "outputs": [],
   "source": [
    "# Ques:17 A school district introduces an educational intervention program to improve math scores. Write a Python \n",
    "# function to analyze pre and post-intervention test scores, calculating the t-statistic and p-value to \n",
    "# determine if the intervention had a significant impact.  \n",
    "# Use the following data of test score:  \n",
    "#   ```python \n",
    "#   pre_intervention_scores = [80, 85, 90, 75, 88, 82, 92, 78, 85, 87] \n",
    "#   post_intervention_scores = [90, 92, 88, 92, 95, 91, 96, 93, 89, 93] \n",
    "#   ``` \n"
   ]
  },
  {
   "cell_type": "code",
   "execution_count": 9,
   "metadata": {},
   "outputs": [
    {
     "name": "stdout",
     "output_type": "stream",
     "text": [
      "T-statistic: -4.0804\n",
      "P-value: 0.0007\n",
      "Reject the null hypothesis: The intervention program had a positive impact on math scores\n"
     ]
    }
   ],
   "source": [
    "# null hypothesis: The intervention program had no impact on math scores.\n",
    "# alternate hypothesis: The intervention program had a positive impact on math scores.\n",
    "\n",
    "import scipy.stats as stat\n",
    "\n",
    "alpha = 0.05\n",
    "pre_intervention_scores = [80, 85, 90, 75, 88, 82, 92, 78, 85, 87] \n",
    "post_intervention_scores = [90, 92, 88, 92, 95, 91, 96, 93, 89, 93]\n",
    "\n",
    "tstat, p_value = stat.ttest_ind(pre_intervention_scores, post_intervention_scores)\n",
    "\n",
    "print(f\"T-statistic: {tstat:.4f}\")\n",
    "print(f\"P-value: {p_value:.4f}\")\n",
    "\n",
    "if p_value < alpha:\n",
    "    print(\"Reject the null hypothesis: The intervention program had a positive impact on math scores\")\n",
    "else:\n",
    "    print(\"Fail to Reject the null hypothesis: The intervention program had no impact on math scores\")"
   ]
  },
  {
   "cell_type": "code",
   "execution_count": null,
   "metadata": {},
   "outputs": [],
   "source": [
    "# Ques:18 An HR department wants to investigate if there's a gender-based salary gap within the company. Develop \n",
    "# a program to analyze salary data, calculate the t-statistic, and determine if there's a statistically \n",
    "# significant difference between the average salaries of male and female employees.  \n",
    "# Use the below code to generate synthetic data:  \n",
    "# ```python \n",
    "# # Generate synthetic salary data for male and female employees \n",
    "# np.random.seed(0)  # For reproducibility \n",
    "# male_salaries = np.random.normal(loc=50000, scale=10000, size=20) \n",
    "# female_salaries = np.random.normal(loc=55000, scale=9000, size=20) \n",
    "#   ``` "
   ]
  },
  {
   "cell_type": "code",
   "execution_count": 12,
   "metadata": {},
   "outputs": [],
   "source": [
    "# null hypothesis: There is no gender-based salary gap in the company.\n",
    "# alternate hypothesis: There is a gender-based salary gap in the company.\n",
    "\n",
    "import scipy.stats as stat\n",
    "import numpy as np\n",
    "\n",
    "alpha = 0.05\n",
    "male_salaries = np.random.normal(loc=50000, scale=10000, size=20) \n",
    "female_salaries = np.random.normal(loc=55000, scale=9000, size=20) "
   ]
  },
  {
   "cell_type": "code",
   "execution_count": 13,
   "metadata": {},
   "outputs": [
    {
     "name": "stdout",
     "output_type": "stream",
     "text": [
      "T-statistic: -2.7899\n",
      "P-value: 0.0082\n",
      "Reject the null hypothesis: There is a gender-based salary gap in the company\n"
     ]
    }
   ],
   "source": [
    "tstat, p_value = stat.ttest_ind(male_salaries, female_salaries)\n",
    "\n",
    "print(f\"T-statistic: {tstat:.4f}\")\n",
    "print(f\"P-value: {p_value:.4f}\")\n",
    "\n",
    "if p_value < alpha:\n",
    "    print(\"Reject the null hypothesis: There is a gender-based salary gap in the company\")\n",
    "else:\n",
    "    print(\"Fail to Reject the null hypothesis: There is no gender-based salary gap in the company\")"
   ]
  },
  {
   "cell_type": "code",
   "execution_count": null,
   "metadata": {},
   "outputs": [],
   "source": [
    "# Ques:19 A manufacturer produces two different versions of a product and wants to compare their quality scores. \n",
    "# Create a Python function to analyze quality assessment data, calculate the t-statistic, and decide \n",
    "# whether there's a significant difference in quality between the two versions.  \n",
    "# Use the following data:  \n",
    "# ```python \n",
    "# version1_scores = [85, 88, 82, 89, 87, 84, 90, 88, 85, 86, 91, 83, 87, 84, 89, 86, 84, 88, 85, 86, 89, 90, 87, 88, 85] \n",
    "# version2_scores = [80, 78, 83, 81, 79, 82, 76, 80, 78, 81, 77, 82, 80, 79, 82, 79, 80, 81, 79, 82, 79, 78, 80, 81, 82] \n",
    "# ``` "
   ]
  },
  {
   "cell_type": "code",
   "execution_count": 15,
   "metadata": {},
   "outputs": [
    {
     "name": "stdout",
     "output_type": "stream",
     "text": [
      "T-statistic: 11.3258\n",
      "P-value: 0.0000\n",
      "Reject the null hypothesis: There is a significant difference in the quality scores between the two versions.\n"
     ]
    }
   ],
   "source": [
    "# null hypothesis: There is no significant difference in the quality scores between the two versions.\n",
    "# alternate hypothesis: There is a significant difference in the quality scores between the two versions.\n",
    "\n",
    "import scipy.stats as stat\n",
    "import numpy as np\n",
    "\n",
    "alpha = 0.05\n",
    "version1_scores = [85, 88, 82, 89, 87, 84, 90, 88, 85, 86, 91, 83, 87, 84, 89, 86, 84, 88, 85, 86, 89, 90, 87, 88, 85] \n",
    "version2_scores = [80, 78, 83, 81, 79, 82, 76, 80, 78, 81, 77, 82, 80, 79, 82, 79, 80, 81, 79, 82, 79, 78, 80, 81, 82] \n",
    "\n",
    "tstat, p_value = stat.ttest_ind(version1_scores, version2_scores)\n",
    "\n",
    "print(f\"T-statistic: {tstat:.4f}\")\n",
    "print(f\"P-value: {p_value:.4f}\")\n",
    "\n",
    "if p_value < alpha:\n",
    "    print(\"Reject the null hypothesis: There is a significant difference in the quality scores between the two versions.\")\n",
    "else:\n",
    "    print(\"Fail to Reject the null hypothesis: There is no significant difference in the quality scores between the two versions.\")"
   ]
  },
  {
   "cell_type": "code",
   "execution_count": null,
   "metadata": {},
   "outputs": [],
   "source": [
    "# Ques:20 A restaurant chain collects customer satisfaction scores for two different branches. Write a program to \n",
    "# analyze the scores, calculate the t-statistic, and determine if there's a statistically significant difference in \n",
    "# customer satisfaction between the branches.  \n",
    "# Use the below data of scores: \n",
    "#   ```python \n",
    "# branch_a_scores = [4, 5, 3, 4, 5, 4, 5, 3, 4, 4, 5, 4, 4, 3, 4, 5, 5, 4, 3, 4, 5, 4, 3, 5, 4, 4, 5, 3, 4, 5, 4] \n",
    "# branch_b_scores = [3, 4, 2, 3, 4, 3, 4, 2, 3, 3, 4, 3, 3, 2, 3, 4, 4, 3, 2, 3, 4, 3, 2, 4, 3, 3, 4, 2, 3, 4, 3] "
   ]
  },
  {
   "cell_type": "code",
   "execution_count": 16,
   "metadata": {},
   "outputs": [
    {
     "name": "stdout",
     "output_type": "stream",
     "text": [
      "T-statistic: 5.4801\n",
      "P-value: 0.0000\n",
      "Reject the null hypothesis: There is a significant difference in the satisfaction scores between the two versions.\n"
     ]
    }
   ],
   "source": [
    "# null hypothesis: There is no significant difference in the satisfaction scores between the two versions.\n",
    "# alternate hypothesis: There is a significant difference in the satisfaction scores between the two versions.\n",
    "\n",
    "import scipy.stats as stat\n",
    "import numpy as np\n",
    "\n",
    "alpha = 0.05\n",
    "branch_a_scores = [4, 5, 3, 4, 5, 4, 5, 3, 4, 4, 5, 4, 4, 3, 4, 5, 5, 4, 3, 4, 5, 4, 3, 5, 4, 4, 5, 3, 4, 5, 4] \n",
    "branch_b_scores = [3, 4, 2, 3, 4, 3, 4, 2, 3, 3, 4, 3, 3, 2, 3, 4, 4, 3, 2, 3, 4, 3, 2, 4, 3, 3, 4, 2, 3, 4, 3]\n",
    "\n",
    "tstat, p_value = stat.ttest_ind(branch_a_scores, branch_b_scores)\n",
    "\n",
    "print(f\"T-statistic: {tstat:.4f}\")\n",
    "print(f\"P-value: {p_value:.4f}\")\n",
    "\n",
    "if p_value < alpha:\n",
    "    print(\"Reject the null hypothesis: There is a significant difference in the satisfaction scores between the two versions.\")\n",
    "else:\n",
    "    print(\"Fail to Reject the null hypothesis: There is no significant difference in the satisfaction scores between the two versions.\")"
   ]
  },
  {
   "cell_type": "code",
   "execution_count": null,
   "metadata": {},
   "outputs": [],
   "source": [
    "# Ques:21 A political analyst wants to determine if there is a significant association between age groups and voter \n",
    "# preferences  (Candidate A or Candidate B). They collect data from a sample of 500 voters and classify \n",
    "# them into different age groups and candidate preferences. Perform a Chi-S quare test to determine if \n",
    "# there is a significant association between age groups and voter preferences.  \n",
    "# Use the below code to generate data: \n",
    "# ```python \n",
    "# np.random.seed(0) \n",
    "# age_groups = np.random.choice(['18 -30', '31 -50', '51 +', '51 +'], size=30) \n",
    "# voter_preferences = np.random.choice(['C andidate A', 'C andidate B'] , size=30) \n"
   ]
  },
  {
   "cell_type": "code",
   "execution_count": 17,
   "metadata": {},
   "outputs": [],
   "source": [
    "# null hypothesis: There is no association between age groups and voter preferences.\n",
    "# alternate hypothesis: There is an association between age groups and voter preferences.\n",
    "\n",
    "import numpy as np\n",
    "import pandas as pd\n",
    "from scipy.stats import chi2_contingency\n",
    "\n",
    "# Generate random data\n",
    "np.random.seed(0)\n",
    "age_groups = np.random.choice(['18-30', '31-50', '51+'], size=30)\n",
    "voter_preferences = np.random.choice(['Candidate A', 'Candidate B'], size=30)"
   ]
  },
  {
   "cell_type": "code",
   "execution_count": 21,
   "metadata": {},
   "outputs": [
    {
     "name": "stdout",
     "output_type": "stream",
     "text": [
      "Contingency Table:\n",
      "Voter Preference  Candidate A  Candidate B\n",
      "Age Group                                 \n",
      "18-30                       4            8\n",
      "31-50                       6            5\n",
      "51+                         4            3\n",
      "\n",
      "Chi-Square Statistic: 1.4401669758812612\n",
      "Degrees of Freedom: 2\n",
      "P-value: 0.48671161971286614\n",
      "Fail to reject the null hypothesis: No significant association between age groups and voter preferences.\n"
     ]
    }
   ],
   "source": [
    "data = pd.DataFrame({'Age Group': age_groups, 'Voter Preference': voter_preferences})\n",
    "contingency_table = pd.crosstab(data['Age Group'], data['Voter Preference'])\n",
    "\n",
    "chi2_stat, p_value, dof, expected = chi2_contingency(contingency_table)\n",
    "\n",
    "print(\"Contingency Table:\")\n",
    "print(contingency_table)\n",
    "print(\"\\nChi-Square Statistic:\", chi2_stat)\n",
    "print(\"Degrees of Freedom:\", dof)\n",
    "print(\"P-value:\", p_value)\n",
    "\n",
    "alpha = 0.05\n",
    "if p_value < alpha:\n",
    "    print(\"Reject the null hypothesis: There is a significant association between age groups and voter preferences.\")\n",
    "else:\n",
    "    print(\"Fail to reject the null hypothesis: No significant association between age groups and voter preferences.\")"
   ]
  },
  {
   "cell_type": "code",
   "execution_count": null,
   "metadata": {},
   "outputs": [],
   "source": [
    "# Ques:22 A company conducted a customer satisfaction survey to determine if there is a significant relationship \n",
    "# between product satisfaction levels (Satisfied, Neutral, Dissatisfied) and the region where customers are \n",
    "# located (East, West, North, South). The survey data is summarized in a contingency table. Conduct a Chi-\n",
    "# Square test to determine if there is a significant relationship between product satisfaction levels and \n",
    "# customer regions.  \n",
    "# Sample data: \n",
    "# ```python \n",
    "# Sample data: Product satisfaction levels (rows) vs. Customer regions (columns) \n",
    "# data = np.array([[50, 30, 40, 20], [30, 40, 30, 50], [20, 30, 40, 30]]) \n",
    "# ``` "
   ]
  },
  {
   "cell_type": "code",
   "execution_count": 22,
   "metadata": {},
   "outputs": [
    {
     "name": "stdout",
     "output_type": "stream",
     "text": [
      "Chi-Square Statistic: 27.777056277056275\n",
      "Degrees of Freedom: 6\n",
      "P-value: 0.00010349448486004387\n",
      "\n",
      "Expected Frequencies:\n",
      "[[34.14634146 34.14634146 37.56097561 34.14634146]\n",
      " [36.58536585 36.58536585 40.24390244 36.58536585]\n",
      " [29.26829268 29.26829268 32.19512195 29.26829268]]\n",
      "\n",
      "Reject the null hypothesis: There is a significant relationship between satisfaction levels and customer regions.\n"
     ]
    }
   ],
   "source": [
    "# null hypothesis: There is no relationship between product satisfaction levels and customer regions. The two variables are independent.\n",
    "# alternate hypothesis: There is a relationship between product satisfaction levels and customer regions. The two variables are not independent.\n",
    "\n",
    "import numpy as np\n",
    "from scipy.stats import chi2_contingency\n",
    "\n",
    "# Sample data: Product satisfaction levels vs. Customer regions\n",
    "data = np.array([[50, 30, 40, 20],\n",
    "                 [30, 40, 30, 50],\n",
    "                 [20, 30, 40, 30]])\n",
    "\n",
    "# Perform Chi-Square test\n",
    "chi2_stat, p_value, dof, expected = chi2_contingency(data)\n",
    "\n",
    "# Output the results\n",
    "print(\"Chi-Square Statistic:\", chi2_stat)\n",
    "print(\"Degrees of Freedom:\", dof)\n",
    "print(\"P-value:\", p_value)\n",
    "print(\"\\nExpected Frequencies:\")\n",
    "print(expected)\n",
    "\n",
    "# Interpretation\n",
    "alpha = 0.05\n",
    "if p_value < alpha:\n",
    "    print(\"\\nReject the null hypothesis: There is a significant relationship between satisfaction levels and customer regions.\")\n",
    "else:\n",
    "    print(\"\\nFail to reject the null hypothesis: No significant relationship between satisfaction levels and customer regions.\")\n"
   ]
  },
  {
   "cell_type": "code",
   "execution_count": null,
   "metadata": {},
   "outputs": [],
   "source": [
    "# Ques:23 A company implemented an employee training program to improve job performance (Effective, Neutral, \n",
    "# Ineffective). After the training, they collected data from a sample of employees and classified them based \n",
    "# on their job performance before and after the training. Perform a Chi-Square test to determine if there is a \n",
    "# significant difference between job performance levels before and after the training.  \n",
    "# Sample data: \n",
    "# ```python \n",
    "# # Sample data: Job performance levels before (rows) and after (columns) training \n",
    "# data = np.array([[50, 30, 20], [30, 40, 30], [20, 30, 40]]) \n",
    "# ```"
   ]
  },
  {
   "cell_type": "code",
   "execution_count": 23,
   "metadata": {},
   "outputs": [
    {
     "name": "stdout",
     "output_type": "stream",
     "text": [
      "Chi-Square Statistic: 22.161728395061726\n",
      "Degrees of Freedom: 4\n",
      "P-value: 0.00018609719479882554\n",
      "\n",
      "Expected Frequencies:\n",
      "[[34.48275862 34.48275862 31.03448276]\n",
      " [34.48275862 34.48275862 31.03448276]\n",
      " [31.03448276 31.03448276 27.93103448]]\n",
      "\n",
      "Reject the null hypothesis: There is a significant difference between job performance levels before and after the training.\n"
     ]
    }
   ],
   "source": [
    "# null hypothesis: There is no relationship between job performance levels before and after the training. The two variables are independent.\n",
    "# alternate hypothesis: There is a relationship between job performance levels before and after the training. The two variables are not independent.\n",
    "\n",
    "import numpy as np\n",
    "from scipy.stats import chi2_contingency\n",
    "\n",
    "data = np.array([[50, 30, 20], [30, 40, 30], [20, 30, 40]]) \n",
    "\n",
    "# Perform Chi-Square test\n",
    "chi2_stat, p_value, dof, expected = chi2_contingency(data)\n",
    "\n",
    "# Output the results\n",
    "print(\"Chi-Square Statistic:\", chi2_stat)\n",
    "print(\"Degrees of Freedom:\", dof)\n",
    "print(\"P-value:\", p_value)\n",
    "print(\"\\nExpected Frequencies:\")\n",
    "print(expected)\n",
    "\n",
    "# Interpretation\n",
    "alpha = 0.05\n",
    "if p_value < alpha:\n",
    "    print(\"\\nReject the null hypothesis: There is a significant difference between job performance levels before and after the training.\")\n",
    "else:\n",
    "    print(\"\\nFail to reject the null hypothesis: No significant difference between job performance levels before and after the training.\")"
   ]
  },
  {
   "cell_type": "code",
   "execution_count": null,
   "metadata": {},
   "outputs": [],
   "source": [
    "# Ques:24 A company produces three different versions of a product:  Standard, Premium, and Deluxe. The  company wants to determine if there is a significant difference in customer satisfaction scores among the  three product versions. They conducted a survey and collected customer satisfaction scores for each  version from a random sample of customers. Perform an ANOVA test to determine if there is a significant difference in customer satisfaction scores.   \n",
    "#   Use the following data: \n",
    "#   ```python \n",
    "#   # Sample data: Customer satisfaction scores for each product version \n",
    "#   standard_ scores = [80, 85, 90, 78, 88, 82, 92, 78, 85, 87] \n",
    "#   premium _ scores = [90, 92, 88, 92, 95, 91 , 96, 93, 89, 93] \n",
    "#   deluxe _ scores = [95, 98, 92, 97, 96, 94, 98, 97, 92, 99] \n",
    "#   ``` "
   ]
  },
  {
   "cell_type": "code",
   "execution_count": 24,
   "metadata": {},
   "outputs": [
    {
     "name": "stdout",
     "output_type": "stream",
     "text": [
      "F-Statistic: 27.03556231003039\n",
      "P-value: 3.578632885734896e-07\n",
      "\n",
      "Reject the null hypothesis: There is a significant difference in customer satisfaction scores among the three product versions.\n"
     ]
    }
   ],
   "source": [
    "# null hypothesis: There is no significant difference in customer satisfaction scores among the three product versions.\n",
    "# alternate hypothesis: There is a significant difference in customer satisfaction scores among the three product versions.\n",
    "\n",
    "from scipy.stats import f_oneway\n",
    "\n",
    "# Sample data: Customer satisfaction scores for each product version\n",
    "standard_scores = [80, 85, 90, 78, 88, 82, 92, 78, 85, 87]\n",
    "premium_scores = [90, 92, 88, 92, 95, 91, 96, 93, 89, 93]\n",
    "deluxe_scores = [95, 98, 92, 97, 96, 94, 98, 97, 92, 99]\n",
    "\n",
    "# Perform one-way ANOVA\n",
    "f_stat, p_value = f_oneway(standard_scores, premium_scores, deluxe_scores)\n",
    "\n",
    "# Output results\n",
    "print(\"F-Statistic:\", f_stat)\n",
    "print(\"P-value:\", p_value)\n",
    "\n",
    "# Interpretation\n",
    "alpha = 0.05\n",
    "if p_value < alpha:\n",
    "    print(\"\\nReject the null hypothesis: There is a significant difference in customer satisfaction scores among the three product versions.\")\n",
    "else:\n",
    "    print(\"\\nFail to reject the null hypothesis: No significant difference in customer satisfaction scores among the three product versions.\")"
   ]
  }
 ],
 "metadata": {
  "kernelspec": {
   "display_name": "Python 3",
   "language": "python",
   "name": "python3"
  },
  "language_info": {
   "codemirror_mode": {
    "name": "ipython",
    "version": 3
   },
   "file_extension": ".py",
   "mimetype": "text/x-python",
   "name": "python",
   "nbconvert_exporter": "python",
   "pygments_lexer": "ipython3",
   "version": "3.12.7"
  }
 },
 "nbformat": 4,
 "nbformat_minor": 2
}
